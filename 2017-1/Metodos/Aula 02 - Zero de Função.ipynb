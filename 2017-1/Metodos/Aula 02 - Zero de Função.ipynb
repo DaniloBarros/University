{
 "cells": [
  {
   "cell_type": "markdown",
   "metadata": {},
   "source": [
    "# Zero de Função\n",
    "---\n",
    "Dada uma função _f(x)_, encontre um x, tal que:\n",
    "    f(x) = y0\n",
    "\n",
    "* Força bruta, testar todos valores dentro de um intervalo\n",
    "* Bissecção\n",
    "* Posição Falsa\n",
    "----\n",
    "\n",
    "* ## **Bissecção**\n",
    "\n",
    "* ## **Posição Falsa**\n",
    "\n",
    "Tem uma convergencia muito lenta.\n",
    "\n",
    "$ g(x) = f(x) - y_0 = 0 $\n",
    "    \n",
    "[$x_a, x_b$] : intervalo\n",
    "    \n",
    "$y_a, y_b$ : tolerancia\n",
    "    \n",
    "$x_{med}$\n",
    "\n",
    "Algoritmo:\n",
    "\n",
    "$y = mx + c$\n",
    "\n",
    "$m = (y_b - y_a)/(x_b - x_a) = y_{delta} / x_{delta}$\n",
    "\n",
    "$y_a = ((y_b - y_a) / (x_b - x_a)) x + c$\n",
    "    \n",
    "$c = y_a - ((y_b - y_a) / (x_b - x_a)) x$\n",
    "    \n",
    "$c = (y_a*(x_b - x_a) - y_b * x_a + y_a * x_b) / (x_b - x_a)$\n",
    "    \n",
    "$x_{med} = ( (y_a*x_b) - (y_b*x_a) ) / (y_b - y_a)$\n",
    "\n"
   ]
  },
  {
   "cell_type": "code",
   "execution_count": 3,
   "metadata": {},
   "outputs": [
    {
     "ename": "ModuleNotFoundError",
     "evalue": "No module named 'numpy'",
     "output_type": "error",
     "traceback": [
      "\u001b[0;31m---------------------------------------------------------------------------\u001b[0m",
      "\u001b[0;31mModuleNotFoundError\u001b[0m                       Traceback (most recent call last)",
      "\u001b[0;32m<ipython-input-3-37401965360e>\u001b[0m in \u001b[0;36m<module>\u001b[0;34m()\u001b[0m\n\u001b[0;32m----> 1\u001b[0;31m \u001b[0;32mimport\u001b[0m \u001b[0mnumpy\u001b[0m \u001b[0;32mas\u001b[0m \u001b[0mnp\u001b[0m\u001b[0;34m\u001b[0m\u001b[0m\n\u001b[0m\u001b[1;32m      2\u001b[0m \u001b[0;32mimport\u001b[0m \u001b[0mmatplotlib\u001b[0m\u001b[0;34m.\u001b[0m\u001b[0mpyplot\u001b[0m \u001b[0;32mas\u001b[0m \u001b[0mplt\u001b[0m\u001b[0;34m\u001b[0m\u001b[0m\n\u001b[1;32m      3\u001b[0m \u001b[0mget_ipython\u001b[0m\u001b[0;34m(\u001b[0m\u001b[0;34m)\u001b[0m\u001b[0;34m.\u001b[0m\u001b[0mmagic\u001b[0m\u001b[0;34m(\u001b[0m\u001b[0;34m'matplotlib inline'\u001b[0m\u001b[0;34m)\u001b[0m\u001b[0;34m\u001b[0m\u001b[0m\n\u001b[1;32m      4\u001b[0m \u001b[0;34m\u001b[0m\u001b[0m\n\u001b[1;32m      5\u001b[0m \u001b[0;34m\u001b[0m\u001b[0m\n",
      "\u001b[0;31mModuleNotFoundError\u001b[0m: No module named 'numpy'"
     ]
    }
   ],
   "source": [
    "import numpy as np\n",
    "import matplotlib.pyplot as plt\n",
    "%matplotlib inline\n",
    "\n",
    "\n",
    "def g(x):\n",
    "    return x ** 3 + 3 * x - 5\n",
    "\n",
    "# intervalos \n",
    "xa = 0\n",
    "xb = 3\n",
    "ya, yb = g(xa), g(xb)\n",
    "\n",
    "# plot\n",
    "x = np.linspace(xa, xb, 100)\n",
    "y = g(x)\n",
    "\n",
    "plt.plot(x,y)"
   ]
  },
  {
   "cell_type": "code",
   "execution_count": 2,
   "metadata": {
    "scrolled": true
   },
   "outputs": [
    {
     "ename": "NameError",
     "evalue": "name 'xa' is not defined",
     "output_type": "error",
     "traceback": [
      "\u001b[0;31m---------------------------------------------------------------------------\u001b[0m",
      "\u001b[0;31mNameError\u001b[0m                                 Traceback (most recent call last)",
      "\u001b[0;32m<ipython-input-2-b3ef06ada261>\u001b[0m in \u001b[0;36m<module>\u001b[0;34m()\u001b[0m\n\u001b[0;32m----> 1\u001b[0;31m \u001b[0mprint\u001b[0m\u001b[0;34m(\u001b[0m\u001b[0;34m'xa = %.6f\\txb = %.6f\\txm = %.6f'\u001b[0m \u001b[0;34m%\u001b[0m \u001b[0;34m(\u001b[0m\u001b[0mxa\u001b[0m\u001b[0;34m,\u001b[0m \u001b[0mxb\u001b[0m\u001b[0;34m,\u001b[0m \u001b[0mxm\u001b[0m\u001b[0;34m)\u001b[0m\u001b[0;34m)\u001b[0m\u001b[0;34m\u001b[0m\u001b[0m\n\u001b[0m\u001b[1;32m      2\u001b[0m \u001b[0;34m\u001b[0m\u001b[0m\n\u001b[1;32m      3\u001b[0m \u001b[0;32mfor\u001b[0m \u001b[0mi\u001b[0m \u001b[0;32min\u001b[0m \u001b[0mrange\u001b[0m\u001b[0;34m(\u001b[0m\u001b[0;36m5\u001b[0m\u001b[0;34m)\u001b[0m\u001b[0;34m:\u001b[0m\u001b[0;34m\u001b[0m\u001b[0m\n\u001b[1;32m      4\u001b[0m     \u001b[0;32mif\u001b[0m \u001b[0mym\u001b[0m \u001b[0;34m==\u001b[0m \u001b[0;36m0\u001b[0m\u001b[0;34m:\u001b[0m\u001b[0;34m\u001b[0m\u001b[0m\n\u001b[1;32m      5\u001b[0m         \u001b[0mprint\u001b[0m\u001b[0;34m(\u001b[0m\u001b[0;34m'encontrou'\u001b[0m\u001b[0;34m)\u001b[0m\u001b[0;34m\u001b[0m\u001b[0m\n",
      "\u001b[0;31mNameError\u001b[0m: name 'xa' is not defined"
     ]
    }
   ],
   "source": [
    "print('xa = %.6f\\txb = %.6f\\txm = %.6f' % (xa, xb, xm))\n",
    "\n",
    "for i in range(5):\n",
    "    if ym == 0:\n",
    "        print('encontrou')\n",
    "    elif (ya * ym) < 0:\n",
    "        xb = xm\n",
    "        yb = g(xm)\n",
    "    else:\n",
    "        xa = xm\n",
    "        ya = g(xm)\n",
    "    \n",
    "    xm = (xb + xa) / 2.0\n",
    "    ym = g(xm)\n",
    "\n",
    "    plt.plot(x, y)\n",
    "    plt.grid(True)\n",
    "    plt.plot(xm, ym, 'ko')\n",
    "    plt.plot([xa, xa], [-5, 30], 'k')\n",
    "    plt.plot([xb, xb], [-5, 30], 'k')\n",
    "    plt.plot([xm, xm], [-5, 30], 'k--')\n",
    "    plt.show()\n",
    "    \n",
    "    \n",
    "    print('%d) x = %f | error = %.6f' % (i, xm, (1.0 - xm)))\n",
    "    print('xa = %.6f\\txb = %.6f\\txm = %.6f' % (xa, xb, xm))\n"
   ]
  },
  {
   "cell_type": "code",
   "execution_count": null,
   "metadata": {
    "collapsed": true
   },
   "outputs": [],
   "source": []
  },
  {
   "cell_type": "markdown",
   "metadata": {},
   "source": [
    "* ## **Metodo de Illinois**\n",
    "Auxilia a convergencia do metodo da posição falsa\n",
    "\n",
    "```\n",
    "if xa ou xb seja atualizado 2 vezes consecutivas\n",
    "    aualizar o limite contrario por metade do intervalo atual\n",
    "```\n",
    "\n",
    "\n"
   ]
  },
  {
   "cell_type": "code",
   "execution_count": null,
   "metadata": {
    "collapsed": true
   },
   "outputs": [],
   "source": []
  },
  {
   "cell_type": "code",
   "execution_count": null,
   "metadata": {
    "collapsed": true
   },
   "outputs": [],
   "source": []
  }
 ],
 "metadata": {
  "kernelspec": {
   "display_name": "Python 3",
   "language": "python",
   "name": "python3"
  },
  "language_info": {
   "codemirror_mode": {
    "name": "ipython",
    "version": 3
   },
   "file_extension": ".py",
   "mimetype": "text/x-python",
   "name": "python",
   "nbconvert_exporter": "python",
   "pygments_lexer": "ipython3",
   "version": "3.6.1"
  }
 },
 "nbformat": 4,
 "nbformat_minor": 2
}
