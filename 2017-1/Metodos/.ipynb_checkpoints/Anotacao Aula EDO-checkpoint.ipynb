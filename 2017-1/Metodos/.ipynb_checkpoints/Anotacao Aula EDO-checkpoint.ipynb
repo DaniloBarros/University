{
 "cells": [
  {
   "cell_type": "markdown",
   "metadata": {},
   "source": [
    "# Aula EDO "
   ]
  },
  {
   "cell_type": "code",
   "execution_count": 2,
   "metadata": {
    "collapsed": true
   },
   "outputs": [],
   "source": [
    "import numpy as np\n",
    "from matplotlib import pyplot as plt\n",
    "%matplotlib inline"
   ]
  },
  {
   "cell_type": "code",
   "execution_count": 13,
   "metadata": {
    "collapsed": true
   },
   "outputs": [],
   "source": [
    "# Definir constantes\n",
    "R = 1\n",
    "L = 1\n",
    "C = 1\n",
    "t = np.linspace(0, 20, 100)\n",
    "\n",
    "delta = t[1] - t[0]\n",
    "\n",
    "# Condicoes iniciais\n",
    "q0 = 1\n",
    "I0 = 0\n",
    "\n",
    "def dq(t, q, I):\n",
    "    return I\n",
    "\n",
    "def dI(t, q, I):\n",
    "    return - (R*I + q/C) / L"
   ]
  },
  {
   "cell_type": "code",
   "execution_count": 14,
   "metadata": {
    "collapsed": true
   },
   "outputs": [],
   "source": [
    "q_analytical = np.e**(-t/2) * np.cos(3**.5 * t / 2)"
   ]
  },
  {
   "cell_type": "code",
   "execution_count": 20,
   "metadata": {},
   "outputs": [],
   "source": [
    "# Método de Euler\n",
    "q_euler = np.zeros(len(t))\n",
    "I = np.zeros(len(t))\n",
    "\n",
    "q_euler[0] = q0\n",
    "I[0] = I0\n",
    "\n",
    "for i in range(1, len(t)):\n",
    "    q_euler[i] = q_euler[i-1] + delta * dq(t[i-1], q_euler[i-1], I[i-1])\n",
    "    I[i] = I[i-1] + delta * dI(t[i-1], q_euler[i-1], I[i-1])"
   ]
  },
  {
   "cell_type": "code",
   "execution_count": null,
   "metadata": {
    "collapsed": true
   },
   "outputs": [],
   "source": [
    "#Metodo de Euler Modificado\n",
    "q_emod = np.zeros(len(t))\n",
    "I = np.zeros(len(t))\n",
    "\n",
    "q_emod[0] = q0\n",
    "I = I0\n",
    "\n",
    "for i in range(1, len(t)):\n",
    "    k1 = delta * dq(t[i-1], q_emod[i-1], I[i-1])\n",
    "    l1 = delta * dI(t[i-1], q_emod[i-1], I[i-1])\n",
    "    \n",
    "    k2 = delta * dq(t[i-1], )"
   ]
  },
  {
   "cell_type": "code",
   "execution_count": 21,
   "metadata": {},
   "outputs": [
    {
     "data": {
      "text/plain": [
       "[<matplotlib.lines.Line2D at 0x105011c50>]"
      ]
     },
     "execution_count": 21,
     "metadata": {},
     "output_type": "execute_result"
    },
    {
     "data": {
      "image/png": "[encoded data removed]",
      "text/plain": [
       "<matplotlib.figure.Figure at 0x105011c88>"
      ]
     },
     "metadata": {},
     "output_type": "display_data"
    }
   ],
   "source": [
    "plt.plot(t, q_analytical)\n",
    "plt.plot(t, q_euler)"
   ]
  },
  {
   "cell_type": "code",
   "execution_count": null,
   "metadata": {
    "collapsed": true
   },
   "outputs": [],
   "source": []
  }
 ],
 "metadata": {
  "kernelspec": {
   "display_name": "Python 3",
   "language": "python",
   "name": "python3"
  },
  "language_info": {
   "codemirror_mode": {
    "name": "ipython",
    "version": 3
   },
   "file_extension": ".py",
   "mimetype": "text/x-python",
   "name": "python",
   "nbconvert_exporter": "python",
   "pygments_lexer": "ipython3",
   "version": "3.6.1"
  }
 },
 "nbformat": 4,
 "nbformat_minor": 2
}
