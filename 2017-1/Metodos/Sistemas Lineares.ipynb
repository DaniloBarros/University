{
 "cells": [
  {
   "cell_type": "markdown",
   "metadata": {},
   "source": [
    "# Sistemas Lineares\n",
    "- Eliminação de Gauss\n",
    "- Método de Gauss-Jordan\n",
    "- Método de Jacobi"
   ]
  },
  {
   "cell_type": "markdown",
   "metadata": {
    "collapsed": true
   },
   "source": [
    "## Eliminação de Gauss"
   ]
  },
  {
   "cell_type": "code",
   "execution_count": 10,
   "metadata": {},
   "outputs": [
    {
     "data": {
      "application/javascript": [
       "IPython.notebook.set_autosave_interval(120000)"
      ]
     },
     "metadata": {},
     "output_type": "display_data"
    },
    {
     "name": "stdout",
     "output_type": "stream",
     "text": [
      "Autosaving every 120 seconds\n"
     ]
    }
   ],
   "source": [
    "import numpy as np\n",
    "import matplotlib.pyplot as plt\n",
    "%matplotlib inline\n",
    "%autosave 120"
   ]
  },
  {
   "cell_type": "code",
   "execution_count": 12,
   "metadata": {
    "collapsed": true
   },
   "outputs": [],
   "source": [
    "def eliminacao_de_gauss(A, b):\n",
    "    G = np.append(A, b, 1).astype(float)\n",
    "    n = len(G)\n",
    "    \n",
    "    for i in range(x-1):\n",
    "        if G[i, i] == 0:\n",
    "            return np.zeros((n, n + 1))\n",
    "        for j in range(i + 1, n):\n",
    "            G[j] -= G[i] * G[j, i] / G[i, i]\n",
    "    \n",
    "    return G\n",
    "    \n",
    "#     for i in range(n):\n",
    "#         for j in range(i+1, n):\n",
    "#             G[j] -= G[i] * G[j,i] / G[i, i]\n",
    "\n",
    "# A = np.array([[3, 3, -1], [2, 6, 2], [8, 4, 1]])\n",
    "# b = np.array([[6, 20, 19]]).T\n",
    "\n",
    "# G = np.append(A, b, 1).astype(float)\n",
    "# G"
   ]
  },
  {
   "cell_type": "markdown",
   "metadata": {},
   "source": [
    "## Gauss Jordan"
   ]
  },
  {
   "cell_type": "code",
   "execution_count": 14,
   "metadata": {
    "collapsed": true
   },
   "outputs": [],
   "source": [
    "def gauss_jordan(A, b):\n",
    "    G = np.append(A, b, 1).astype(float)\n",
    "    n = len(G[:, 0])\n",
    "    for i in range(n - 1):\n",
    "        if G[i, i] == 0:\n",
    "            return np.zeros((n, n - 1))\n",
    "        for j in range(i + 1, n):\n",
    "            G[j] -= G[i] * G[j, i] / G[i, i]\n",
    "    \n",
    "    for i in range(n - 1, -1, -1):\n",
    "        G[i] /= G[i, i]\n",
    "        for j in range(i-1, -1, -1):\n",
    "            G[j] -= G[i] * G[j, i]\n",
    "    \n",
    "    return G[:, n:]"
   ]
  },
  {
   "cell_type": "markdown",
   "metadata": {},
   "source": [
    "## Método de Jacobi"
   ]
  },
  {
   "cell_type": "code",
   "execution_count": 15,
   "metadata": {
    "collapsed": true
   },
   "outputs": [],
   "source": [
    "def jacobi(A, b, x):\n",
    "    x_novo = x\n",
    "    n = len(x)\n",
    "    \n",
    "    for i in range(n):\n",
    "        x_novo[i] = b[i]\n",
    "        for j in range(n):\n",
    "            if i == j:\n",
    "                continue\n",
    "            x_novo[i] -= x[j] * A[i, j] / A[i, i]\n",
    "            \n",
    "    x = x_novo\n",
    "    return x"
   ]
  },
  {
   "cell_type": "code",
   "execution_count": null,
   "metadata": {
    "collapsed": true
   },
   "outputs": [],
   "source": []
  }
 ],
 "metadata": {
  "kernelspec": {
   "display_name": "Python 3",
   "language": "python",
   "name": "python3"
  },
  "language_info": {
   "codemirror_mode": {
    "name": "ipython",
    "version": 3
   },
   "file_extension": ".py",
   "mimetype": "text/x-python",
   "name": "python",
   "nbconvert_exporter": "python",
   "pygments_lexer": "ipython3",
   "version": "3.6.1"
  }
 },
 "nbformat": 4,
 "nbformat_minor": 2
}
